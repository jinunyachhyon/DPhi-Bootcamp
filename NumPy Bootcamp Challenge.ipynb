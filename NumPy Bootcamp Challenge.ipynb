{
 "cells": [
  {
   "cell_type": "markdown",
   "metadata": {
    "id": "OZpduK2BJvzZ"
   },
   "source": [
    "### **Overview**\n",
    "\n",
    "Dear Learner, \n",
    "\n",
    "Congratulations, you have studied NumPy all the way through the end of this bootcamp!!! This is the final graded hands-on exercise where you will be accomplishing the below mentioned task.\n",
    "\n",
    "**Author:** Avantika Podar"
   ]
  },
  {
   "cell_type": "markdown",
   "metadata": {
    "id": "UC6lZAsJLiFg"
   },
   "source": [
    "# Task 1:   \n",
    "\n",
    "Construct a random 3x28x28 NumPy array called *original* to represent an image and then convert this into into a 1x(3x28x28) array called *flat*. This converts it into a single row of pixels. Next, convert this to a 1D array (flatten the array using flat.flatten()). Print shape of all arrays. You may use the random function to generate the array.\n",
    "\n"
   ]
  },
  {
   "cell_type": "code",
   "execution_count": 1,
   "metadata": {
    "id": "Qno3FG8M9RXZ"
   },
   "outputs": [],
   "source": [
    "import numpy as np\n",
    "original = np.random.randint(0, 100, size=(3, 28, 28)) #create 3d array"
   ]
  },
  {
   "cell_type": "code",
   "execution_count": 2,
   "metadata": {},
   "outputs": [
    {
     "data": {
      "text/plain": [
       "array([[[66, 89, 12, ..., 78, 71, 99],\n",
       "        [16, 93, 11, ...,  2, 11, 80],\n",
       "        [ 7, 65,  9, ..., 26,  4, 42],\n",
       "        ...,\n",
       "        [59, 77, 94, ..., 82, 98, 75],\n",
       "        [46, 95, 52, ..., 49, 21, 90],\n",
       "        [25, 10, 99, ..., 61, 47, 30]],\n",
       "\n",
       "       [[42, 64, 48, ..., 93,  3, 97],\n",
       "        [54, 92, 62, ..., 55, 80, 29],\n",
       "        [ 3, 19, 41, ..., 62, 29, 60],\n",
       "        ...,\n",
       "        [17, 47, 95, ..., 83, 29, 54],\n",
       "        [68, 41, 28, ..., 83, 88, 89],\n",
       "        [98, 94, 39, ...,  1, 47, 75]],\n",
       "\n",
       "       [[ 3, 80, 97, ..., 61, 46, 95],\n",
       "        [28, 88, 27, ..., 18, 41, 45],\n",
       "        [77, 43, 80, ..., 70, 69, 63],\n",
       "        ...,\n",
       "        [14, 83, 93, ..., 11, 22, 73],\n",
       "        [58, 95, 63, ...,  5, 76,  6],\n",
       "        [18, 15, 34, ..., 66, 64, 12]]])"
      ]
     },
     "execution_count": 2,
     "metadata": {},
     "output_type": "execute_result"
    }
   ],
   "source": [
    "original "
   ]
  },
  {
   "cell_type": "code",
   "execution_count": 3,
   "metadata": {},
   "outputs": [],
   "source": [
    "flat=original.flatten() #flatten 3d array to 1d array"
   ]
  },
  {
   "cell_type": "code",
   "execution_count": 4,
   "metadata": {},
   "outputs": [
    {
     "data": {
      "text/plain": [
       "array([66, 89, 12, ..., 66, 64, 12])"
      ]
     },
     "execution_count": 4,
     "metadata": {},
     "output_type": "execute_result"
    }
   ],
   "source": [
    "flat"
   ]
  },
  {
   "cell_type": "code",
   "execution_count": 5,
   "metadata": {},
   "outputs": [
    {
     "data": {
      "text/plain": [
       "(3, 28, 28)"
      ]
     },
     "execution_count": 5,
     "metadata": {},
     "output_type": "execute_result"
    }
   ],
   "source": [
    "original.shape #shape of 3d array"
   ]
  },
  {
   "cell_type": "code",
   "execution_count": 6,
   "metadata": {},
   "outputs": [
    {
     "data": {
      "text/plain": [
       "(2352,)"
      ]
     },
     "execution_count": 6,
     "metadata": {},
     "output_type": "execute_result"
    }
   ],
   "source": [
    "flat.shape #shape of 1d array"
   ]
  },
  {
   "cell_type": "markdown",
   "metadata": {
    "id": "eIcDegymM1tR"
   },
   "source": [
    "# Task 2: Print out the following: \n",
    "  * dimension of the arrays.\n",
    "  * memory address of the arrays (pointer).\n",
    "  * shape of the arrays.\n",
    "  * data types of the arrays. \n",
    "\n",
    "\n"
   ]
  },
  {
   "cell_type": "code",
   "execution_count": 7,
   "metadata": {
    "id": "H9MUhbsn9Ych"
   },
   "outputs": [
    {
     "data": {
      "text/plain": [
       "3"
      ]
     },
     "execution_count": 7,
     "metadata": {},
     "output_type": "execute_result"
    }
   ],
   "source": [
    "#dimension of arrays\n",
    "original.ndim "
   ]
  },
  {
   "cell_type": "code",
   "execution_count": 8,
   "metadata": {},
   "outputs": [
    {
     "data": {
      "text/plain": [
       "1"
      ]
     },
     "execution_count": 8,
     "metadata": {},
     "output_type": "execute_result"
    }
   ],
   "source": [
    "flat.ndim "
   ]
  },
  {
   "cell_type": "code",
   "execution_count": 9,
   "metadata": {},
   "outputs": [
    {
     "data": {
      "text/plain": [
       "92"
      ]
     },
     "execution_count": 9,
     "metadata": {},
     "output_type": "execute_result"
    }
   ],
   "source": [
    "#pointer of arrays\n",
    "original[1,6,17] "
   ]
  },
  {
   "cell_type": "code",
   "execution_count": 10,
   "metadata": {},
   "outputs": [
    {
     "data": {
      "text/plain": [
       "42"
      ]
     },
     "execution_count": 10,
     "metadata": {},
     "output_type": "execute_result"
    }
   ],
   "source": [
    "flat[3] "
   ]
  },
  {
   "cell_type": "code",
   "execution_count": 11,
   "metadata": {},
   "outputs": [
    {
     "data": {
      "text/plain": [
       "(3, 28, 28)"
      ]
     },
     "execution_count": 11,
     "metadata": {},
     "output_type": "execute_result"
    }
   ],
   "source": [
    "#shape of the arrays.\n",
    "original.shape "
   ]
  },
  {
   "cell_type": "code",
   "execution_count": 12,
   "metadata": {},
   "outputs": [
    {
     "data": {
      "text/plain": [
       "(2352,)"
      ]
     },
     "execution_count": 12,
     "metadata": {},
     "output_type": "execute_result"
    }
   ],
   "source": [
    "flat.shape"
   ]
  },
  {
   "cell_type": "code",
   "execution_count": 13,
   "metadata": {},
   "outputs": [
    {
     "data": {
      "text/plain": [
       "dtype('int32')"
      ]
     },
     "execution_count": 13,
     "metadata": {},
     "output_type": "execute_result"
    }
   ],
   "source": [
    "#data types of the arrays.\n",
    "original.dtype"
   ]
  },
  {
   "cell_type": "code",
   "execution_count": 14,
   "metadata": {},
   "outputs": [
    {
     "data": {
      "text/plain": [
       "dtype('int32')"
      ]
     },
     "execution_count": 14,
     "metadata": {},
     "output_type": "execute_result"
    }
   ],
   "source": [
    "flat.dtype"
   ]
  },
  {
   "cell_type": "markdown",
   "metadata": {
    "id": "mZYl9CjBN9bg"
   },
   "source": [
    "# Task 3: \n",
    "Construct a new array which is a negative of the *original* array, i.e, all elements are negative of those in the *original* array. Print the new array. Add the original and new arrays. Print the result. "
   ]
  },
  {
   "cell_type": "code",
   "execution_count": 15,
   "metadata": {
    "id": "0VCQBW-F933Z"
   },
   "outputs": [],
   "source": [
    "neg_original=np.negative(original) #new array which is a negative of the original array"
   ]
  },
  {
   "cell_type": "code",
   "execution_count": 16,
   "metadata": {},
   "outputs": [
    {
     "data": {
      "text/plain": [
       "array([[[-66, -89, -12, ..., -78, -71, -99],\n",
       "        [-16, -93, -11, ...,  -2, -11, -80],\n",
       "        [ -7, -65,  -9, ..., -26,  -4, -42],\n",
       "        ...,\n",
       "        [-59, -77, -94, ..., -82, -98, -75],\n",
       "        [-46, -95, -52, ..., -49, -21, -90],\n",
       "        [-25, -10, -99, ..., -61, -47, -30]],\n",
       "\n",
       "       [[-42, -64, -48, ..., -93,  -3, -97],\n",
       "        [-54, -92, -62, ..., -55, -80, -29],\n",
       "        [ -3, -19, -41, ..., -62, -29, -60],\n",
       "        ...,\n",
       "        [-17, -47, -95, ..., -83, -29, -54],\n",
       "        [-68, -41, -28, ..., -83, -88, -89],\n",
       "        [-98, -94, -39, ...,  -1, -47, -75]],\n",
       "\n",
       "       [[ -3, -80, -97, ..., -61, -46, -95],\n",
       "        [-28, -88, -27, ..., -18, -41, -45],\n",
       "        [-77, -43, -80, ..., -70, -69, -63],\n",
       "        ...,\n",
       "        [-14, -83, -93, ..., -11, -22, -73],\n",
       "        [-58, -95, -63, ...,  -5, -76,  -6],\n",
       "        [-18, -15, -34, ..., -66, -64, -12]]])"
      ]
     },
     "execution_count": 16,
     "metadata": {},
     "output_type": "execute_result"
    }
   ],
   "source": [
    "neg_original "
   ]
  },
  {
   "cell_type": "code",
   "execution_count": 17,
   "metadata": {},
   "outputs": [],
   "source": [
    "#addition of original and negative of the original array\n",
    "sum = original + neg_original"
   ]
  },
  {
   "cell_type": "code",
   "execution_count": 18,
   "metadata": {},
   "outputs": [
    {
     "data": {
      "text/plain": [
       "array([[[0, 0, 0, ..., 0, 0, 0],\n",
       "        [0, 0, 0, ..., 0, 0, 0],\n",
       "        [0, 0, 0, ..., 0, 0, 0],\n",
       "        ...,\n",
       "        [0, 0, 0, ..., 0, 0, 0],\n",
       "        [0, 0, 0, ..., 0, 0, 0],\n",
       "        [0, 0, 0, ..., 0, 0, 0]],\n",
       "\n",
       "       [[0, 0, 0, ..., 0, 0, 0],\n",
       "        [0, 0, 0, ..., 0, 0, 0],\n",
       "        [0, 0, 0, ..., 0, 0, 0],\n",
       "        ...,\n",
       "        [0, 0, 0, ..., 0, 0, 0],\n",
       "        [0, 0, 0, ..., 0, 0, 0],\n",
       "        [0, 0, 0, ..., 0, 0, 0]],\n",
       "\n",
       "       [[0, 0, 0, ..., 0, 0, 0],\n",
       "        [0, 0, 0, ..., 0, 0, 0],\n",
       "        [0, 0, 0, ..., 0, 0, 0],\n",
       "        ...,\n",
       "        [0, 0, 0, ..., 0, 0, 0],\n",
       "        [0, 0, 0, ..., 0, 0, 0],\n",
       "        [0, 0, 0, ..., 0, 0, 0]]])"
      ]
     },
     "execution_count": 18,
     "metadata": {},
     "output_type": "execute_result"
    }
   ],
   "source": [
    "sum"
   ]
  },
  {
   "cell_type": "markdown",
   "metadata": {
    "id": "4UKa56EzQXaU"
   },
   "source": [
    "# Task 4\n",
    "\n",
    "A 3x28x28 basically means 28x28 matrices repeated three times. How would you access the first 10 elements of the 2nd row of the second 28x28 matrix? Consider the original array for this. Print the elements."
   ]
  },
  {
   "cell_type": "code",
   "execution_count": 19,
   "metadata": {
    "id": "bc0stgsY93Tn"
   },
   "outputs": [
    {
     "data": {
      "text/plain": [
       "array([54, 92, 62, 74, 88, 17, 61, 11, 82, 33])"
      ]
     },
     "execution_count": 19,
     "metadata": {},
     "output_type": "execute_result"
    }
   ],
   "source": [
    "#first 10 elements of the 2nd row of the second 28x28 matrix\n",
    "original[1,1,0:10]"
   ]
  },
  {
   "cell_type": "markdown",
   "metadata": {
    "id": "8USrPA7NdRXQ"
   },
   "source": [
    "# Task 5 (Optional)\n",
    "A 3x28x28 image means 3 channels of Red, Green, or Blue (Popularly known as RGB image). Each color channel has a height and width, which is 28X28 in this case. The entire picture can represented through this method. Print the shape of the Blue pixel matrix and its first 3 rows."
   ]
  },
  {
   "cell_type": "code",
   "execution_count": 20,
   "metadata": {
    "id": "bQCRmVPz92r7"
   },
   "outputs": [
    {
     "data": {
      "text/plain": [
       "array([[ 3, 80, 97, 37, 99, 56, 99, 31, 39, 12, 26, 66, 69, 87, 31, 14,\n",
       "        32, 12, 56, 22, 36, 93, 83, 64,  3, 61, 46, 95],\n",
       "       [28, 88, 27, 71, 93, 23, 55, 66, 53, 98,  1, 77,  6, 36, 89, 17,\n",
       "         7, 41, 76, 92, 22,  9, 16, 45, 89, 18, 41, 45],\n",
       "       [77, 43, 80, 35, 59, 40, 66,  3, 26, 10, 90, 63, 68, 30, 73, 13,\n",
       "        44, 96,  3, 39, 99, 11, 51, 33, 42, 70, 69, 63]])"
      ]
     },
     "execution_count": 20,
     "metadata": {},
     "output_type": "execute_result"
    }
   ],
   "source": [
    "original[2,0:3,:]"
   ]
  },
  {
   "cell_type": "markdown",
   "metadata": {
    "id": "Nb9AZUweD-3m"
   },
   "source": [
    "# Task 6 \n",
    "Create a 1 dimensional numpy array of the first 50 even numbers. Convert this to a 10x5 numpy array and print its transpose. "
   ]
  },
  {
   "cell_type": "code",
   "execution_count": 21,
   "metadata": {
    "id": "JJj-N-Kt92Nz"
   },
   "outputs": [],
   "source": [
    "list=[]\n",
    "i=1\n",
    "while len(list)!=50:\n",
    "    if i%2==0:\n",
    "        list.append(i)\n",
    "        i=i+1\n",
    "    else:\n",
    "        i=i+1\n"
   ]
  },
  {
   "cell_type": "code",
   "execution_count": 22,
   "metadata": {},
   "outputs": [
    {
     "data": {
      "text/plain": [
       "[2,\n",
       " 4,\n",
       " 6,\n",
       " 8,\n",
       " 10,\n",
       " 12,\n",
       " 14,\n",
       " 16,\n",
       " 18,\n",
       " 20,\n",
       " 22,\n",
       " 24,\n",
       " 26,\n",
       " 28,\n",
       " 30,\n",
       " 32,\n",
       " 34,\n",
       " 36,\n",
       " 38,\n",
       " 40,\n",
       " 42,\n",
       " 44,\n",
       " 46,\n",
       " 48,\n",
       " 50,\n",
       " 52,\n",
       " 54,\n",
       " 56,\n",
       " 58,\n",
       " 60,\n",
       " 62,\n",
       " 64,\n",
       " 66,\n",
       " 68,\n",
       " 70,\n",
       " 72,\n",
       " 74,\n",
       " 76,\n",
       " 78,\n",
       " 80,\n",
       " 82,\n",
       " 84,\n",
       " 86,\n",
       " 88,\n",
       " 90,\n",
       " 92,\n",
       " 94,\n",
       " 96,\n",
       " 98,\n",
       " 100]"
      ]
     },
     "execution_count": 22,
     "metadata": {},
     "output_type": "execute_result"
    }
   ],
   "source": [
    "list"
   ]
  },
  {
   "cell_type": "code",
   "execution_count": 23,
   "metadata": {},
   "outputs": [
    {
     "data": {
      "text/plain": [
       "50"
      ]
     },
     "execution_count": 23,
     "metadata": {},
     "output_type": "execute_result"
    }
   ],
   "source": [
    "len(list)"
   ]
  },
  {
   "cell_type": "code",
   "execution_count": 24,
   "metadata": {},
   "outputs": [],
   "source": [
    "even_arr=np.array(list) #1 dimensional numpy array of the first 50 even numbers."
   ]
  },
  {
   "cell_type": "code",
   "execution_count": 25,
   "metadata": {},
   "outputs": [
    {
     "data": {
      "text/plain": [
       "array([  2,   4,   6,   8,  10,  12,  14,  16,  18,  20,  22,  24,  26,\n",
       "        28,  30,  32,  34,  36,  38,  40,  42,  44,  46,  48,  50,  52,\n",
       "        54,  56,  58,  60,  62,  64,  66,  68,  70,  72,  74,  76,  78,\n",
       "        80,  82,  84,  86,  88,  90,  92,  94,  96,  98, 100])"
      ]
     },
     "execution_count": 25,
     "metadata": {},
     "output_type": "execute_result"
    }
   ],
   "source": [
    "even_arr"
   ]
  },
  {
   "cell_type": "code",
   "execution_count": 26,
   "metadata": {},
   "outputs": [
    {
     "data": {
      "text/plain": [
       "array([[  2,   4,   6,   8,  10],\n",
       "       [ 12,  14,  16,  18,  20],\n",
       "       [ 22,  24,  26,  28,  30],\n",
       "       [ 32,  34,  36,  38,  40],\n",
       "       [ 42,  44,  46,  48,  50],\n",
       "       [ 52,  54,  56,  58,  60],\n",
       "       [ 62,  64,  66,  68,  70],\n",
       "       [ 72,  74,  76,  78,  80],\n",
       "       [ 82,  84,  86,  88,  90],\n",
       "       [ 92,  94,  96,  98, 100]])"
      ]
     },
     "execution_count": 26,
     "metadata": {},
     "output_type": "execute_result"
    }
   ],
   "source": [
    "#Convert this to a 10x5 numpy array \n",
    "reshape_even_arr = even_arr.reshape(10,5)\n",
    "reshape_even_arr"
   ]
  },
  {
   "cell_type": "code",
   "execution_count": 27,
   "metadata": {},
   "outputs": [
    {
     "data": {
      "text/plain": [
       "array([[  2,  12,  22,  32,  42,  52,  62,  72,  82,  92],\n",
       "       [  4,  14,  24,  34,  44,  54,  64,  74,  84,  94],\n",
       "       [  6,  16,  26,  36,  46,  56,  66,  76,  86,  96],\n",
       "       [  8,  18,  28,  38,  48,  58,  68,  78,  88,  98],\n",
       "       [ 10,  20,  30,  40,  50,  60,  70,  80,  90, 100]])"
      ]
     },
     "execution_count": 27,
     "metadata": {},
     "output_type": "execute_result"
    }
   ],
   "source": [
    "#transpose\n",
    "np.transpose(reshape_even_arr)"
   ]
  },
  {
   "cell_type": "markdown",
   "metadata": {
    "id": "ITBNUk5dHu0f"
   },
   "source": [
    "# Task 7 \n",
    "Consider the 10x5 array created in Task 6. Find the mean of each row and column. You may use in built functions or write your own code."
   ]
  },
  {
   "cell_type": "code",
   "execution_count": 28,
   "metadata": {
    "id": "qYrg2g-jVduw"
   },
   "outputs": [
    {
     "data": {
      "text/plain": [
       "array([47., 49., 51., 53., 55.])"
      ]
     },
     "execution_count": 28,
     "metadata": {},
     "output_type": "execute_result"
    }
   ],
   "source": [
    "np.mean(reshape_even_arr,axis=0) #mean of each columns "
   ]
  },
  {
   "cell_type": "code",
   "execution_count": 29,
   "metadata": {
    "id": "9bFi6vVf91oY"
   },
   "outputs": [
    {
     "data": {
      "text/plain": [
       "array([ 6., 16., 26., 36., 46., 56., 66., 76., 86., 96.])"
      ]
     },
     "execution_count": 29,
     "metadata": {},
     "output_type": "execute_result"
    }
   ],
   "source": [
    "np.mean(reshape_even_arr,axis=1) #mean of each rows"
   ]
  },
  {
   "cell_type": "markdown",
   "metadata": {
    "id": "WEHBWo7AGXKK"
   },
   "source": [
    "# Task 8\n",
    "Can we create a 3x3 array of the first 50 even numbers? Why or why not? What are other values of m and n for which mxn dimension is allowed for 50 elements?"
   ]
  },
  {
   "cell_type": "code",
   "execution_count": 30,
   "metadata": {},
   "outputs": [
    {
     "ename": "ValueError",
     "evalue": "cannot reshape array of size 50 into shape (3,3)",
     "output_type": "error",
     "traceback": [
      "\u001b[1;31m---------------------------------------------------------------------------\u001b[0m",
      "\u001b[1;31mValueError\u001b[0m                                Traceback (most recent call last)",
      "Input \u001b[1;32mIn [30]\u001b[0m, in \u001b[0;36m<module>\u001b[1;34m\u001b[0m\n\u001b[1;32m----> 1\u001b[0m \u001b[43meven_arr\u001b[49m\u001b[38;5;241;43m.\u001b[39;49m\u001b[43mreshape\u001b[49m\u001b[43m(\u001b[49m\u001b[38;5;241;43m3\u001b[39;49m\u001b[43m,\u001b[49m\u001b[38;5;241;43m3\u001b[39;49m\u001b[43m)\u001b[49m\n",
      "\u001b[1;31mValueError\u001b[0m: cannot reshape array of size 50 into shape (3,3)"
     ]
    }
   ],
   "source": [
    "even_arr.reshape(3,3)"
   ]
  },
  {
   "cell_type": "code",
   "execution_count": 31,
   "metadata": {},
   "outputs": [
    {
     "data": {
      "text/plain": [
       "(50,)"
      ]
     },
     "execution_count": 31,
     "metadata": {},
     "output_type": "execute_result"
    }
   ],
   "source": [
    "even_arr.shape"
   ]
  },
  {
   "cell_type": "markdown",
   "metadata": {},
   "source": [
    "- NO we cannot create a 3x3 array of the first 50 even numbers. Because 3x3 array in 1D means shape(9,) whereas for first 50 even numbers, shape in 1d is shape(50,). \n",
    "- other values of m and n for which mxn dimension is allowed for 50 elements are : 2x4, 1x3, 4x6, 6x3, etc. Hence the multiple of m and n must result 50 to make make mxn dimension of 50 elements. \n"
   ]
  },
  {
   "cell_type": "markdown",
   "metadata": {
    "id": "nGirNkBS90-J"
   },
   "source": []
  }
 ],
 "metadata": {
  "colab": {
   "name": "NumPy Bootcamp Graded Hands-on Exercise.ipynb",
   "provenance": []
  },
  "kernelspec": {
   "display_name": "Python 3 (ipykernel)",
   "language": "python",
   "name": "python3"
  },
  "language_info": {
   "codemirror_mode": {
    "name": "ipython",
    "version": 3
   },
   "file_extension": ".py",
   "mimetype": "text/x-python",
   "name": "python",
   "nbconvert_exporter": "python",
   "pygments_lexer": "ipython3",
   "version": "3.8.8"
  }
 },
 "nbformat": 4,
 "nbformat_minor": 1
}
