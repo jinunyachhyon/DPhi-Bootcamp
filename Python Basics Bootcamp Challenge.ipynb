{
 "cells": [
  {
   "cell_type": "markdown",
   "metadata": {
    "id": "A8yCrhVHQ_lC"
   },
   "source": [
    "##Overview\n",
    "\n",
    "Dear Learner, \n",
    "\n",
    "Congratulations, you have studied Python all the way through the end of this bootcamp!!! This is the final graded hands-on exercise where you will be accomplishing the below mentioned task.\n",
    "\n",
    "Authors: Albana Celepija, Vinayak Deshpande"
   ]
  },
  {
   "cell_type": "markdown",
   "metadata": {
    "id": "y_B39vCQGRTH"
   },
   "source": [
    "###Task 1\n",
    "\n",
    "We have declared a tuple containing five same elements as following:\n",
    "T = (‘python’, ‘python’, ‘python’, ‘python’, ‘python’).\n",
    "Re-write the same code in an optimal/simple way that fetches the same result."
   ]
  },
  {
   "cell_type": "markdown",
   "metadata": {
    "id": "H_8tFcijGRTQ"
   },
   "source": [
    "###Task 2\n",
    "\n",
    "Write code to print characters from a string that are present at an even index number.\n",
    "For example, if your input string is \"python\", the output characters will be (p,t,o)."
   ]
  },
  {
   "cell_type": "markdown",
   "metadata": {
    "id": "FbLVbwcsGRTT"
   },
   "source": [
    "### Task 3\n",
    "\n",
    "Write a function that calculates the average of the elements of the list: \n",
    "\n",
    "elements = [5, 7, 4, 9, 2]\n"
   ]
  },
  {
   "cell_type": "markdown",
   "metadata": {
    "id": "2pzfM3wS4oqt"
   },
   "source": [
    "### Task 4\n",
    "Write a code that takes a year as input and determines whether it is a leap year or not."
   ]
  },
  {
   "cell_type": "markdown",
   "metadata": {
    "id": "zsVw9yrD5drx"
   },
   "source": [
    "### Task 5\n",
    "Given a list of numbers (integers), find the sum of second maximum and second minimum in the following list.\n",
    "\n",
    "l = [21, 6, 12, 57, 35, 61]"
   ]
  },
  {
   "cell_type": "markdown",
   "metadata": {},
   "source": [
    "# Task 1"
   ]
  },
  {
   "cell_type": "code",
   "execution_count": 1,
   "metadata": {},
   "outputs": [],
   "source": [
    "#Task 1\n",
    "T = ('python',) * 5"
   ]
  },
  {
   "cell_type": "code",
   "execution_count": 2,
   "metadata": {},
   "outputs": [
    {
     "data": {
      "text/plain": [
       "('python', 'python', 'python', 'python', 'python')"
      ]
     },
     "execution_count": 2,
     "metadata": {},
     "output_type": "execute_result"
    }
   ],
   "source": [
    "T"
   ]
  },
  {
   "cell_type": "markdown",
   "metadata": {},
   "source": [
    "# Task 2"
   ]
  },
  {
   "cell_type": "code",
   "execution_count": 3,
   "metadata": {},
   "outputs": [],
   "source": [
    "#Task 2\n",
    "example_string = 'anaconda'"
   ]
  },
  {
   "cell_type": "code",
   "execution_count": 4,
   "metadata": {},
   "outputs": [
    {
     "name": "stdout",
     "output_type": "stream",
     "text": [
      "a\n",
      "a\n",
      "o\n",
      "d\n"
     ]
    }
   ],
   "source": [
    "for i in range(len(example_string)):\n",
    "    if i%2==0:\n",
    "        print(example_string[i])"
   ]
  },
  {
   "cell_type": "markdown",
   "metadata": {},
   "source": [
    "# Task 3 "
   ]
  },
  {
   "cell_type": "code",
   "execution_count": 5,
   "metadata": {},
   "outputs": [],
   "source": [
    "#Task 3\n",
    "elements = [5, 7, 4, 9, 2]\n",
    "sum=0"
   ]
  },
  {
   "cell_type": "code",
   "execution_count": 6,
   "metadata": {},
   "outputs": [],
   "source": [
    "def average(elements,sum):\n",
    "    for i in range(len(elements)):\n",
    "        sum = sum+elements[i]\n",
    "        i=i+1\n",
    "    avg = sum / len(elements)\n",
    "    print(avg)"
   ]
  },
  {
   "cell_type": "code",
   "execution_count": 7,
   "metadata": {},
   "outputs": [
    {
     "name": "stdout",
     "output_type": "stream",
     "text": [
      "5.4\n"
     ]
    }
   ],
   "source": [
    "average(elements,sum)"
   ]
  },
  {
   "cell_type": "markdown",
   "metadata": {},
   "source": [
    "# Task 4"
   ]
  },
  {
   "cell_type": "code",
   "execution_count": 8,
   "metadata": {},
   "outputs": [
    {
     "name": "stdout",
     "output_type": "stream",
     "text": [
      "Enter a year: 1900\n"
     ]
    }
   ],
   "source": [
    "# Task 4\n",
    "year = int(input(\"Enter a year: \"))"
   ]
  },
  {
   "cell_type": "code",
   "execution_count": 9,
   "metadata": {},
   "outputs": [
    {
     "name": "stdout",
     "output_type": "stream",
     "text": [
      "not leap year\n"
     ]
    }
   ],
   "source": [
    "if (year % 4) == 0:\n",
    "        if (year % 100) == 0:\n",
    "            if (year % 400) == 0:\n",
    "                print(\"leap year\")\n",
    "            else:\n",
    "                print(\"not leap year\")\n",
    "        else:\n",
    "             print(\"leap year\")\n",
    "else:\n",
    "    print(\"not leap year\")"
   ]
  },
  {
   "cell_type": "markdown",
   "metadata": {},
   "source": [
    "# Task 5"
   ]
  },
  {
   "cell_type": "code",
   "execution_count": 10,
   "metadata": {},
   "outputs": [],
   "source": [
    "#Task 5\n",
    "l = [21, 6, 12, 57, 35, 61]\n",
    "l.sort()"
   ]
  },
  {
   "cell_type": "code",
   "execution_count": 11,
   "metadata": {},
   "outputs": [
    {
     "data": {
      "text/plain": [
       "[6, 12, 21, 35, 57, 61]"
      ]
     },
     "execution_count": 11,
     "metadata": {},
     "output_type": "execute_result"
    }
   ],
   "source": [
    "l"
   ]
  },
  {
   "cell_type": "code",
   "execution_count": 12,
   "metadata": {},
   "outputs": [],
   "source": [
    "second_max=l[-2]\n",
    "second_min=l[2]"
   ]
  },
  {
   "cell_type": "code",
   "execution_count": 13,
   "metadata": {},
   "outputs": [
    {
     "data": {
      "text/plain": [
       "57"
      ]
     },
     "execution_count": 13,
     "metadata": {},
     "output_type": "execute_result"
    }
   ],
   "source": [
    "second_max"
   ]
  },
  {
   "cell_type": "code",
   "execution_count": 14,
   "metadata": {},
   "outputs": [
    {
     "data": {
      "text/plain": [
       "21"
      ]
     },
     "execution_count": 14,
     "metadata": {},
     "output_type": "execute_result"
    }
   ],
   "source": [
    "second_min"
   ]
  },
  {
   "cell_type": "code",
   "execution_count": 15,
   "metadata": {},
   "outputs": [
    {
     "name": "stdout",
     "output_type": "stream",
     "text": [
      "78\n"
     ]
    }
   ],
   "source": [
    "sum=second_max+second_min\n",
    "print(sum)"
   ]
  }
 ],
 "metadata": {
  "colab": {
   "collapsed_sections": [],
   "name": "Python Bootcamp Graded Hands-on Exercise.ipynb",
   "provenance": []
  },
  "kernelspec": {
   "display_name": "Python 3 (ipykernel)",
   "language": "python",
   "name": "python3"
  },
  "language_info": {
   "codemirror_mode": {
    "name": "ipython",
    "version": 3
   },
   "file_extension": ".py",
   "mimetype": "text/x-python",
   "name": "python",
   "nbconvert_exporter": "python",
   "pygments_lexer": "ipython3",
   "version": "3.8.8"
  }
 },
 "nbformat": 4,
 "nbformat_minor": 1
}
